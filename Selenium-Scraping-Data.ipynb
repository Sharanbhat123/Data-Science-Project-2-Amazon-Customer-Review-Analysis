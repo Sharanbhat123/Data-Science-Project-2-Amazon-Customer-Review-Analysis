{
 "cells": [
  {
   "cell_type": "markdown",
   "id": "a389f38c",
   "metadata": {},
   "source": [
    "## Import modules"
   ]
  },
  {
   "cell_type": "code",
   "execution_count": 87,
   "id": "3fd4b945",
   "metadata": {
    "ExecuteTime": {
     "end_time": "2022-04-07T16:07:20.515721Z",
     "start_time": "2022-04-07T16:07:19.400143Z"
    }
   },
   "outputs": [],
   "source": [
    "import pandas as pd\n",
    "from selenium import webdriver\n",
    "from webdriver_manager.chrome import ChromeDriverManager\n",
    "from time import sleep"
   ]
  },
  {
   "cell_type": "markdown",
   "id": "849a8947",
   "metadata": {},
   "source": [
    "## Set the path for Web driver"
   ]
  },
  {
   "cell_type": "code",
   "execution_count": 88,
   "id": "4003f3a2",
   "metadata": {
    "ExecuteTime": {
     "end_time": "2022-04-07T16:09:05.852559Z",
     "start_time": "2022-04-07T16:07:21.480860Z"
    }
   },
   "outputs": [
    {
     "name": "stderr",
     "output_type": "stream",
     "text": [
      "\n",
      "\n",
      "====== WebDriver manager ======\n",
      "Current google-chrome version is 100.0.4896\n",
      "Get LATEST chromedriver version for 100.0.4896 google-chrome\n",
      "Trying to download new driver from https://chromedriver.storage.googleapis.com/100.0.4896.60/chromedriver_win32.zip\n",
      "Driver has been saved in cache [C:\\Users\\SHARAN\\.wdm\\drivers\\chromedriver\\win32\\100.0.4896.60]\n",
      "C:\\Users\\SHARAN\\AppData\\Local\\Temp/ipykernel_7372/893479022.py:1: DeprecationWarning: executable_path has been deprecated, please pass in a Service object\n",
      "  browser = webdriver.Chrome(ChromeDriverManager().install())\n"
     ]
    }
   ],
   "source": [
    "browser = webdriver.Chrome(ChromeDriverManager().install())"
   ]
  },
  {
   "cell_type": "code",
   "execution_count": 89,
   "id": "25fb1106",
   "metadata": {
    "ExecuteTime": {
     "end_time": "2022-04-07T16:09:06.253851Z",
     "start_time": "2022-04-07T16:09:06.052402Z"
    }
   },
   "outputs": [],
   "source": [
    "url=\"https://www.amazon.in/Apple-iPhone-13-128GB-Starlight/product-reviews/B09G9D8KRQ/ref=cm_cr_arp_d_viewopt_sr?ie=UTF8&reviewerType=all_reviews&filterByStar=five_star&pageNumber=1\""
   ]
  },
  {
   "cell_type": "code",
   "execution_count": 90,
   "id": "f2172eee",
   "metadata": {
    "ExecuteTime": {
     "end_time": "2022-04-07T16:09:20.548876Z",
     "start_time": "2022-04-07T16:09:06.265834Z"
    }
   },
   "outputs": [],
   "source": [
    "# Open the page url in chrome\n",
    "browser.get(url)"
   ]
  },
  {
   "cell_type": "markdown",
   "id": "a9d3b560",
   "metadata": {},
   "source": [
    "## Scrape the data"
   ]
  },
  {
   "cell_type": "code",
   "execution_count": 64,
   "id": "06207abb",
   "metadata": {
    "ExecuteTime": {
     "end_time": "2022-04-07T12:08:35.535687Z",
     "start_time": "2022-04-07T12:07:22.541376Z"
    }
   },
   "outputs": [
    {
     "name": "stdout",
     "output_type": "stream",
     "text": [
      "Scraping page 1\n"
     ]
    },
    {
     "name": "stderr",
     "output_type": "stream",
     "text": [
      "C:\\Users\\SHARAN\\AppData\\Local\\Temp/ipykernel_7372/88604236.py:4: DeprecationWarning: find_elements_by_* commands are deprecated. Please use find_elements() instead\n",
      "  product=browser.find_elements_by_xpath(\"//span[@class='a-size-base review-text review-text-content']\")\n",
      "C:\\Users\\SHARAN\\AppData\\Local\\Temp/ipykernel_7372/88604236.py:7: DeprecationWarning: find_element_by_* commands are deprecated. Please use find_element() instead\n",
      "  next_button=browser.find_element_by_xpath(\"//li[@class='a-last']\")\n"
     ]
    },
    {
     "name": "stdout",
     "output_type": "stream",
     "text": [
      "Scraping page 2\n",
      "Scraping page 3\n",
      "Scraping page 4\n",
      "Scraping page 5\n",
      "Scraping page 6\n",
      "Scraping page 7\n",
      "Scraping page 8\n",
      "Scraping page 9\n",
      "Scraping page 10\n",
      "Scraping page 11\n",
      "Scraping page 12\n",
      "Scraping page 13\n",
      "Scraping page 14\n",
      "Scraping page 15\n",
      "Scraping page 16\n",
      "Scraping page 17\n",
      "Scraping page 18\n",
      "Scraping page 19\n",
      "Scraping page 20\n",
      "Scraping page 21\n",
      "Scraping page 22\n",
      "Scraping page 23\n",
      "Scraping page 24\n",
      "Scraping page 25\n",
      "Scraping page 26\n",
      "Scraping page 27\n",
      "Scraping page 28\n",
      "Scraping page 29\n"
     ]
    }
   ],
   "source": [
    "reviews=[]\n",
    "for i in range(29):\n",
    "    print('Scraping page',i+1)\n",
    "    product=browser.find_elements_by_xpath(\"//span[@class='a-size-base review-text review-text-content']\")\n",
    "    for p in product:\n",
    "        reviews.append(p.text)\n",
    "    next_button=browser.find_element_by_xpath(\"//li[@class='a-last']\")\n",
    "    next_button.click()\n",
    "    sleep(2)"
   ]
  },
  {
   "cell_type": "code",
   "execution_count": 77,
   "id": "78056895",
   "metadata": {
    "ExecuteTime": {
     "end_time": "2022-04-07T13:44:29.028639Z",
     "start_time": "2022-04-07T13:44:29.013626Z"
    }
   },
   "outputs": [
    {
     "data": {
      "text/plain": [
       "290"
      ]
     },
     "execution_count": 77,
     "metadata": {},
     "output_type": "execute_result"
    }
   ],
   "source": [
    "len(reviews)"
   ]
  },
  {
   "cell_type": "code",
   "execution_count": 78,
   "id": "44bac677",
   "metadata": {
    "ExecuteTime": {
     "end_time": "2022-04-07T13:44:42.382694Z",
     "start_time": "2022-04-07T13:44:42.191548Z"
    },
    "scrolled": true
   },
   "outputs": [
    {
     "data": {
      "text/plain": [
       "['I do not have money that I can get a phone but I have a dream to get a phone which will definitely be fulfilled one day',\n",
       " 'My honest review after going broke buying this depreciating object.\\nI have been using android phones since the last 10 years and finally decided to switch to iPhone! I used to roast iPhone for its prices, lack of features and also things like power adapter not given in box etc, but my last android phone (iqoo 7 legend) had lot of software related issues and battery issues after updating it to android 12, tired of bugs and software glitches in android, I finally decided to buy a iPhone and switch from android to iOS And Boy Was I right!\\nI never even held an iPhone In my life before because of its price, but now I made a great choice even if I had to spend all my savings on it.\\n\\niPhone 13 is so smooth that even my IQOO 7 Legend with 120hz feels slower than it even if iPhone has only 60hz. And I can’t believe what I’m seeing, all the games/apps are so much smoother and optimised than on android.\\n\\nI was very sceptical about the charging speed of an iPhone Because in Iqoo I had 66w fast charger where as for iPhone I had to buy 20w separate fast charger for 1800rs, but charging speed isn’t disappointing.\\n\\nDisplay quality is truly flagship level and I’m quite a fan of the small 6.1 display believe it or not, being able to reach the top of display with just one hand is very helpful, Build quality is great.\\nI would recommend NOT to waste extra 40k for buying 13 pro. Because I don’t think having a extra camera telephoto lens is worth spending 40k.\\n\\nYou can see in the 3rd image attached the quality of wide angle camera pic shot on my iPhone 13, wide angle camera struggles in low light, but main camera is really good, captures true colours. Front camera is really good too, truly flagship.\\n\\nSpeakers are Great.\\n\\nBattery life is better than my previous devices,\\niOS is very optimised in terms of battery life, easy 8hrs sot on normal usage.\\nNOTE : While playing BGMI you loose around 2% battery every 6minutes at HD + Extreme Graphics. Which is also good. Pro Max Would Be far better in terms of battery.\\n\\nFor the software? Yes I feel like there are few downsides, even if the software is very smooth and has very less bugs, it has two annoying things : any game gets paused when you open control centre just to check the battery etc, Lock Screen is annoying and also having to reach the top left corner just to see notifications is also annoying, clearing all notifications is also very annoying.\\n\\nBut other than that a perfect 10/10 purchase. I was very disappointed at myself when I paid for the iPhone but when I received it I was truly happy that I bought it.\\nTruly worth it.',\n",
       " 'Assuming you’re starting with a good foundation, I think the list of what really makes a big difference in phone upgrades is actually short. The first thing on the list is improved battery life. The second is an improved camera.\\nThis Two Factor really matter in our day to day life and regular use\\nNo any other things are improved like a screen and chip performance\\nOverall Soft Update for 12',\n",
       " ' iPhone is so good but My phone is four times hang so I am facing some difficulties please Solve problems',\n",
       " 'If you’re moving from iphone 11 or previous gen then it’s the best iPhone ever. From 12 to 13 , you won’t feel any significant changes. I moved from android to ios and I couldn’t be more happier.']"
      ]
     },
     "execution_count": 78,
     "metadata": {},
     "output_type": "execute_result"
    }
   ],
   "source": [
    "reviews[:5]"
   ]
  },
  {
   "cell_type": "code",
   "execution_count": null,
   "id": "333347dc",
   "metadata": {},
   "outputs": [],
   "source": [
    "import pandas as pd\n",
    "data=pd.DataFrame()\n",
    "data['iPhone-13 reviews']=reviews\n",
    "data.head()"
   ]
  },
  {
   "cell_type": "code",
   "execution_count": 84,
   "id": "275091d0",
   "metadata": {
    "ExecuteTime": {
     "end_time": "2022-04-07T13:51:59.658871Z",
     "start_time": "2022-04-07T13:51:58.885592Z"
    }
   },
   "outputs": [],
   "source": [
    "# save the data\n",
    "data.to_csv(\"iPhone.csv\",index=False)"
   ]
  },
  {
   "cell_type": "markdown",
   "id": "186e9e03",
   "metadata": {},
   "source": [
    "## Closing the browser"
   ]
  },
  {
   "cell_type": "code",
   "execution_count": 85,
   "id": "14a18a93",
   "metadata": {
    "ExecuteTime": {
     "end_time": "2022-04-07T13:52:11.870880Z",
     "start_time": "2022-04-07T13:52:04.086325Z"
    }
   },
   "outputs": [],
   "source": [
    "browser.quit()"
   ]
  }
 ],
 "metadata": {
  "kernelspec": {
   "display_name": "Python 3 (ipykernel)",
   "language": "python",
   "name": "python3"
  },
  "language_info": {
   "codemirror_mode": {
    "name": "ipython",
    "version": 3
   },
   "file_extension": ".py",
   "mimetype": "text/x-python",
   "name": "python",
   "nbconvert_exporter": "python",
   "pygments_lexer": "ipython3",
   "version": "3.9.7"
  }
 },
 "nbformat": 4,
 "nbformat_minor": 5
}
